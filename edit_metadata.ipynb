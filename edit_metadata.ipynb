{
 "cells": [
  {
   "cell_type": "code",
   "execution_count": null,
   "id": "5789a172",
   "metadata": {},
   "outputs": [
    {
     "name": "stdout",
     "output_type": "stream",
     "text": [
      "Saved: C:\\Users\\achen\\Desktop\\website\\carbonheliumnitrogen.github.io\\Napkin_upload.pdf\n"
     ]
    }
   ],
   "source": [
    "#Run this notebook with the non-Conda kernel\n",
    "import pikepdf\n",
    "\n",
    "input_path = r\"C:\\Users\\achen\\Desktop\\website\\carbonheliumnitrogen.github.io\\Napkin.pdf\"\n",
    "output_path = r\"C:\\Users\\achen\\Desktop\\website\\carbonheliumnitrogen.github.io\\Napkin_upload.pdf\"\n",
    "\n",
    "pdf = pikepdf.open(input_path)\n",
    "pdf.docinfo[\"/Title\"] = \"An Infinitely Large Solid Mechanics Napkin\"\n",
    "pdf.docinfo[\"/Author\"] = \"Andrew Chen\"  # optional\n",
    "pdf.save(output_path)\n",
    "pdf.close()\n",
    "\n",
    "print(\"Saved:\", output_path)\n"
   ]
  },
  {
   "cell_type": "code",
   "execution_count": null,
   "id": "78b7feb9",
   "metadata": {},
   "outputs": [],
   "source": []
  }
 ],
 "metadata": {
  "kernelspec": {
   "display_name": "Python 3",
   "language": "python",
   "name": "python3"
  },
  "language_info": {
   "codemirror_mode": {
    "name": "ipython",
    "version": 3
   },
   "file_extension": ".py",
   "mimetype": "text/x-python",
   "name": "python",
   "nbconvert_exporter": "python",
   "pygments_lexer": "ipython3",
   "version": "3.10.11"
  }
 },
 "nbformat": 4,
 "nbformat_minor": 5
}
